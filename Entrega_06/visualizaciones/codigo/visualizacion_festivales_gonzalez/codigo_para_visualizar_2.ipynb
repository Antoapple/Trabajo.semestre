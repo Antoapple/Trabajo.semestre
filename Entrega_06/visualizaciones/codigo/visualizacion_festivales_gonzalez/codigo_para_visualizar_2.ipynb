{
  "nbformat": 4,
  "nbformat_minor": 0,
  "metadata": {
    "colab": {
      "provenance": []
    },
    "kernelspec": {
      "name": "python3",
      "display_name": "Python 3"
    },
    "language_info": {
      "name": "python"
    }
  },
  "cells": [
    {
      "cell_type": "code",
      "source": [
        "import altair as alt\n",
        "import pandas as pd\n",
        "\n",
        "datos = pd.read_csv('/content/drive/MyDrive/Colab Notebooks/Artistas por recinto_2.0.csv')\n",
        "\n",
        "chart_csv= alt.Chart(datos).mark_bar(\n",
        "\n",
        "    cornerRadiusTopLeft=3,\n",
        "    cornerRadiusTopRight=3\n",
        "\n",
        ").encode(\n",
        "\n",
        "    x='Recintos:O',\n",
        "    y='Cantidad de artistas (2024):Q',\n",
        "\n",
        "    color=alt.Color('Tipo de artista:N',\n",
        "     scale=alt.Scale(\n",
        "                    domain=['Internacional', 'Latinoamericano', 'Latinoamericano y nacional','Nacional'],\n",
        "                    range=['#FF5187','#A34EA0','#F4F0CD','#3F4270']\n",
        "\n",
        "       )\n",
        "    )\n",
        ").configure_view(step=16, strokeWidth=0).configure_axis(domain=False, labelFontSize=10, titleFontSize=11).properties(width=300, title=\"Distribución de artistas por recinto (festivales)\", background=\"white\").configure_title(anchor='middle', align='center')\n",
        "\n",
        "\n",
        "chart_csv.show()\n",
        "\n",
        "chart_csv.save('grafico-recintos-artistas.html')"
      ],
      "metadata": {
        "colab": {
          "base_uri": "https://localhost:8080/",
          "height": 549
        },
        "id": "MrBtSs1MHuHi",
        "outputId": "f4f38917-d169-4a77-b765-88d0dd477e07"
      },
      "execution_count": null,
      "outputs": [
        {
          "output_type": "display_data",
          "data": {
            "text/html": [
              "\n",
              "<style>\n",
              "  #altair-viz-3c3727a2f16c43ef8def7a0f25b056f9.vega-embed {\n",
              "    width: 100%;\n",
              "    display: flex;\n",
              "  }\n",
              "\n",
              "  #altair-viz-3c3727a2f16c43ef8def7a0f25b056f9.vega-embed details,\n",
              "  #altair-viz-3c3727a2f16c43ef8def7a0f25b056f9.vega-embed details summary {\n",
              "    position: relative;\n",
              "  }\n",
              "</style>\n",
              "<div id=\"altair-viz-3c3727a2f16c43ef8def7a0f25b056f9\"></div>\n",
              "<script type=\"text/javascript\">\n",
              "  var VEGA_DEBUG = (typeof VEGA_DEBUG == \"undefined\") ? {} : VEGA_DEBUG;\n",
              "  (function(spec, embedOpt){\n",
              "    let outputDiv = document.currentScript.previousElementSibling;\n",
              "    if (outputDiv.id !== \"altair-viz-3c3727a2f16c43ef8def7a0f25b056f9\") {\n",
              "      outputDiv = document.getElementById(\"altair-viz-3c3727a2f16c43ef8def7a0f25b056f9\");\n",
              "    }\n",
              "\n",
              "    const paths = {\n",
              "      \"vega\": \"https://cdn.jsdelivr.net/npm/vega@5?noext\",\n",
              "      \"vega-lib\": \"https://cdn.jsdelivr.net/npm/vega-lib?noext\",\n",
              "      \"vega-lite\": \"https://cdn.jsdelivr.net/npm/vega-lite@5.20.1?noext\",\n",
              "      \"vega-embed\": \"https://cdn.jsdelivr.net/npm/vega-embed@6?noext\",\n",
              "    };\n",
              "\n",
              "    function maybeLoadScript(lib, version) {\n",
              "      var key = `${lib.replace(\"-\", \"\")}_version`;\n",
              "      return (VEGA_DEBUG[key] == version) ?\n",
              "        Promise.resolve(paths[lib]) :\n",
              "        new Promise(function(resolve, reject) {\n",
              "          var s = document.createElement('script');\n",
              "          document.getElementsByTagName(\"head\")[0].appendChild(s);\n",
              "          s.async = true;\n",
              "          s.onload = () => {\n",
              "            VEGA_DEBUG[key] = version;\n",
              "            return resolve(paths[lib]);\n",
              "          };\n",
              "          s.onerror = () => reject(`Error loading script: ${paths[lib]}`);\n",
              "          s.src = paths[lib];\n",
              "        });\n",
              "    }\n",
              "\n",
              "    function showError(err) {\n",
              "      outputDiv.innerHTML = `<div class=\"error\" style=\"color:red;\">${err}</div>`;\n",
              "      throw err;\n",
              "    }\n",
              "\n",
              "    function displayChart(vegaEmbed) {\n",
              "      vegaEmbed(outputDiv, spec, embedOpt)\n",
              "        .catch(err => showError(`Javascript Error: ${err.message}<br>This usually means there's a typo in your chart specification. See the javascript console for the full traceback.`));\n",
              "    }\n",
              "\n",
              "    if(typeof define === \"function\" && define.amd) {\n",
              "      requirejs.config({paths});\n",
              "      let deps = [\"vega-embed\"];\n",
              "      require(deps, displayChart, err => showError(`Error loading script: ${err.message}`));\n",
              "    } else {\n",
              "      maybeLoadScript(\"vega\", \"5\")\n",
              "        .then(() => maybeLoadScript(\"vega-lite\", \"5.20.1\"))\n",
              "        .then(() => maybeLoadScript(\"vega-embed\", \"6\"))\n",
              "        .catch(showError)\n",
              "        .then(() => displayChart(vegaEmbed));\n",
              "    }\n",
              "  })({\"config\": {\"view\": {\"continuousWidth\": 300, \"continuousHeight\": 300, \"step\": 16, \"strokeWidth\": 0}, \"axis\": {\"domain\": false, \"labelFontSize\": 10, \"titleFontSize\": 11}, \"title\": {\"align\": \"center\", \"anchor\": \"middle\"}}, \"data\": {\"name\": \"data-2f6cbf7b3231eec62f8c114daf090c9c\"}, \"mark\": {\"type\": \"bar\", \"cornerRadiusTopLeft\": 3, \"cornerRadiusTopRight\": 3}, \"background\": \"white\", \"encoding\": {\"color\": {\"field\": \"Tipo de artista\", \"scale\": {\"domain\": [\"Internacional\", \"Latinoamericano\", \"Latinoamericano y nacional\", \"Nacional\"], \"range\": [\"#FF5187\", \"#A34EA0\", \"#F4F0CD\", \"#3F4270\"]}, \"type\": \"nominal\"}, \"x\": {\"field\": \"Recintos\", \"type\": \"ordinal\"}, \"y\": {\"field\": \"Cantidad de artistas (2024)\", \"type\": \"quantitative\"}}, \"title\": \"Distribuci\\u00f3n de artistas por recinto (festivales)\", \"width\": 300, \"$schema\": \"https://vega.github.io/schema/vega-lite/v5.20.1.json\", \"datasets\": {\"data-2f6cbf7b3231eec62f8c114daf090c9c\": [{\"Recintos\": \"Club Hipico\", \"Tipo de artista\": \"Internacional\", \"Cantidad de artistas (2024)\": 42}, {\"Recintos\": \"Espacio Caren\", \"Tipo de artista\": \"Internacional\", \"Cantidad de artistas (2024)\": 0}, {\"Recintos\": \"Espacio Riesco\", \"Tipo de artista\": \"Internacional\", \"Cantidad de artistas (2024)\": 22}, {\"Recintos\": \"Hipodromo Chile\", \"Tipo de artista\": \"Internacional\", \"Cantidad de artistas (2024)\": 1}, {\"Recintos\": \"Movistar Arena\", \"Tipo de artista\": \"Internacional\", \"Cantidad de artistas (2024)\": 13}, {\"Recintos\": \"Parque Bicentenario de Cerrillos\", \"Tipo de artista\": \"Internacional\", \"Cantidad de artistas (2024)\": 36}, {\"Recintos\": \"Parque Ciudad Empresarial\", \"Tipo de artista\": \"Internacional\", \"Cantidad de artistas (2024)\": 10}, {\"Recintos\": \"Parque Estadio Nacional\", \"Tipo de artista\": \"Internacional\", \"Cantidad de artistas (2024)\": 7}, {\"Recintos\": \"Parque Fisa (hoy Hacienda Lo Aguirre)\", \"Tipo de artista\": \"Internacional\", \"Cantidad de artistas (2024)\": 36}, {\"Recintos\": \"Parque Padre Hurtado\", \"Tipo de artista\": \"Internacional\", \"Cantidad de artistas (2024)\": 7}, {\"Recintos\": \"Teatro Caupolican\", \"Tipo de artista\": \"Internacional\", \"Cantidad de artistas (2024)\": 5}, {\"Recintos\": \"Club Hipico\", \"Tipo de artista\": \"Latinoamericano\", \"Cantidad de artistas (2024)\": 18}, {\"Recintos\": \"Espacio Caren\", \"Tipo de artista\": \"Latinoamericano\", \"Cantidad de artistas (2024)\": 0}, {\"Recintos\": \"Espacio Riesco\", \"Tipo de artista\": \"Latinoamericano\", \"Cantidad de artistas (2024)\": 0}, {\"Recintos\": \"Hipodromo Chile\", \"Tipo de artista\": \"Latinoamericano\", \"Cantidad de artistas (2024)\": 16}, {\"Recintos\": \"Movistar Arena\", \"Tipo de artista\": \"Latinoamericano\", \"Cantidad de artistas (2024)\": 16}, {\"Recintos\": \"Parque Bicentenario de Cerrillos\", \"Tipo de artista\": \"Latinoamericano\", \"Cantidad de artistas (2024)\": 25}, {\"Recintos\": \"Parque Ciudad Empresarial\", \"Tipo de artista\": \"Latinoamericano\", \"Cantidad de artistas (2024)\": 3}, {\"Recintos\": \"Parque Estadio Nacional\", \"Tipo de artista\": \"Latinoamericano\", \"Cantidad de artistas (2024)\": 0}, {\"Recintos\": \"Parque Fisa (hoy Hacienda Lo Aguirre)\", \"Tipo de artista\": \"Latinoamericano\", \"Cantidad de artistas (2024)\": 7}, {\"Recintos\": \"Parque Padre Hurtado\", \"Tipo de artista\": \"Latinoamericano\", \"Cantidad de artistas (2024)\": 10}, {\"Recintos\": \"Teatro Caupolican\", \"Tipo de artista\": \"Latinoamericano\", \"Cantidad de artistas (2024)\": 0}, {\"Recintos\": \"Club Hipico\", \"Tipo de artista\": \"Latinoamericano y nacional\", \"Cantidad de artistas (2024)\": 1}, {\"Recintos\": \"Espacio Caren\", \"Tipo de artista\": \"Latinoamericano y nacional\", \"Cantidad de artistas (2024)\": 0}, {\"Recintos\": \"Espacio Riesco\", \"Tipo de artista\": \"Latinoamericano y nacional\", \"Cantidad de artistas (2024)\": 0}, {\"Recintos\": \"Hipodromo Chile\", \"Tipo de artista\": \"Latinoamericano y nacional\", \"Cantidad de artistas (2024)\": 0}, {\"Recintos\": \"Movistar Arena\", \"Tipo de artista\": \"Latinoamericano y nacional\", \"Cantidad de artistas (2024)\": 0}, {\"Recintos\": \"Parque Bicentenario de Cerrillos\", \"Tipo de artista\": \"Latinoamericano y nacional\", \"Cantidad de artistas (2024)\": 0}, {\"Recintos\": \"Parque Ciudad Empresarial\", \"Tipo de artista\": \"Latinoamericano y nacional\", \"Cantidad de artistas (2024)\": 0}, {\"Recintos\": \"Parque Estadio Nacional\", \"Tipo de artista\": \"Latinoamericano y nacional\", \"Cantidad de artistas (2024)\": 0}, {\"Recintos\": \"Parque Fisa (hoy Hacienda Lo Aguirre)\", \"Tipo de artista\": \"Latinoamericano y nacional\", \"Cantidad de artistas (2024)\": 0}, {\"Recintos\": \"Parque Padre Hurtado\", \"Tipo de artista\": \"Latinoamericano y nacional\", \"Cantidad de artistas (2024)\": 0}, {\"Recintos\": \"Teatro Caupolican\", \"Tipo de artista\": \"Latinoamericano y nacional\", \"Cantidad de artistas (2024)\": 0}, {\"Recintos\": \"Club Hipico\", \"Tipo de artista\": \"Nacional\", \"Cantidad de artistas (2024)\": 49}, {\"Recintos\": \"Espacio Caren\", \"Tipo de artista\": \"Nacional\", \"Cantidad de artistas (2024)\": 6}, {\"Recintos\": \"Espacio Riesco\", \"Tipo de artista\": \"Nacional\", \"Cantidad de artistas (2024)\": 21}, {\"Recintos\": \"Hipodromo Chile\", \"Tipo de artista\": \"Nacional\", \"Cantidad de artistas (2024)\": 44}, {\"Recintos\": \"Movistar Arena\", \"Tipo de artista\": \"Nacional\", \"Cantidad de artistas (2024)\": 32}, {\"Recintos\": \"Parque Bicentenario de Cerrillos\", \"Tipo de artista\": \"Nacional\", \"Cantidad de artistas (2024)\": 48}, {\"Recintos\": \"Parque Ciudad Empresarial\", \"Tipo de artista\": \"Nacional\", \"Cantidad de artistas (2024)\": 4}, {\"Recintos\": \"Parque Estadio Nacional\", \"Tipo de artista\": \"Nacional\", \"Cantidad de artistas (2024)\": 4}, {\"Recintos\": \"Parque Fisa (hoy Hacienda Lo Aguirre)\", \"Tipo de artista\": \"Nacional\", \"Cantidad de artistas (2024)\": 66}, {\"Recintos\": \"Parque Padre Hurtado\", \"Tipo de artista\": \"Nacional\", \"Cantidad de artistas (2024)\": 29}, {\"Recintos\": \"Teatro Caupolican\", \"Tipo de artista\": \"Nacional\", \"Cantidad de artistas (2024)\": 1}]}}, {\"mode\": \"vega-lite\"});\n",
              "</script>"
            ],
            "text/plain": [
              "alt.Chart(...)"
            ]
          },
          "metadata": {}
        }
      ]
    }
  ]
}